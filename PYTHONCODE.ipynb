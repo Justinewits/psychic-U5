{
  "nbformat": 4,
  "nbformat_minor": 0,
  "metadata": {
    "colab": {
      "name": "CODE.ipynb",
      "provenance": [],
      "collapsed_sections": []
    },
    "kernelspec": {
      "name": "python3",
      "display_name": "Python 3"
    }
  },
  "cells": [
    {
      "cell_type": "markdown",
      "metadata": {
        "id": "YeI6DQjrAxV6"
      },
      "source": [
        "Extract Survival curves"
      ]
    },
    {
      "cell_type": "code",
      "metadata": {
        "id": "wdfbeCUZBOCT"
      },
      "source": [
        "# Use DeepSurv from the repo\n",
        "import sys\n",
        "sys.path.append('../deepsurv')\n",
        "\n",
        "\n",
        "from sklearn.preprocessing import StandardScaler\n",
        "from sklearn_pandas import DataFrameMapper\n",
        "\n",
        "import torch\n",
        "import torchtuples as tt\n",
        "\n",
        "from pycox.datasets import metabric\n",
        "\n",
        "from pycox.models import CoxPH\n",
        "from pycox.evaluation import EvalSurv\n",
        "from sklearn_pandas import DataFrameMapper\n",
        "import numpy as np\n",
        "import pandas as pd\n",
        "import matplotlib.pyplot as plt\n",
        "from sklearn.model_selection import train_test_split\n",
        "from pysurvival.models.semi_parametric import NonLinearCoxPHModel\n",
        "from pysurvival.utils.metrics import concordance_index\n",
        "from pysurvival.utils.display import integrated_brier_score\n",
        "from sklearn.model_selection import KFold"
      ],
      "execution_count": 8,
      "outputs": []
    },
    {
      "cell_type": "code",
      "metadata": {
        "id": "Qqpo2oFtydn0"
      },
      "source": [
        "#!pip install pysurvival"
      ],
      "execution_count": null,
      "outputs": []
    },
    {
      "cell_type": "code",
      "metadata": {
        "colab": {
          "base_uri": "https://localhost:8080/"
        },
        "id": "33lUJI7Es79p",
        "outputId": "7700b2bc-b97f-4fff-d5e5-fc2490ca083e"
      },
      "source": [
        "%cd /content/drive/MyDrive/Colab Notebooks/research_2021/"
      ],
      "execution_count": 15,
      "outputs": [
        {
          "output_type": "stream",
          "name": "stdout",
          "text": [
            "/content/drive/MyDrive/Colab Notebooks/research_2021\n"
          ]
        }
      ]
    },
    {
      "cell_type": "code",
      "metadata": {
        "colab": {
          "base_uri": "https://localhost:8080/"
        },
        "id": "TSp9YmUtgbLL",
        "outputId": "369f0504-9be3-4f51-d70f-1ad7abbbec0e"
      },
      "source": [
        "from google.colab import drive\n",
        "drive.mount('/content/drive')"
      ],
      "execution_count": 14,
      "outputs": [
        {
          "output_type": "stream",
          "name": "stdout",
          "text": [
            "Mounted at /content/drive\n"
          ]
        }
      ]
    },
    {
      "cell_type": "markdown",
      "metadata": {
        "id": "5CDnGHZqBdbA"
      },
      "source": [
        "Load datasets"
      ]
    },
    {
      "cell_type": "code",
      "metadata": {
        "id": "YNIjI954BU8e"
      },
      "source": [
        "# Loading and preparing the Datasets\n",
        "train_dataset_fp1 = 'New1996Chad.csv'\n",
        "train_dataset_fp2 = 'New2004Chad.csv'\n",
        "train_dataset_fp3 = 'New2014Chad.csv'\n",
        "\n",
        "\n",
        "train_df1 = pd.read_csv(train_dataset_fp1)\n",
        "train_df2 = pd.read_csv(train_dataset_fp2)\n",
        "train_df3 = pd.read_csv(train_dataset_fp3)\n",
        "#train_df4 = pd.read_csv(train_dataset_fp4)"
      ],
      "execution_count": 16,
      "outputs": []
    },
    {
      "cell_type": "markdown",
      "metadata": {
        "id": "XSIdw4nRBtEv"
      },
      "source": [
        "\n",
        "\n",
        "Split the data into train, and test dataset\n"
      ]
    },
    {
      "cell_type": "code",
      "metadata": {
        "id": "7SqonIkDF0Oh"
      },
      "source": [
        "data_ds = train_df3.copy()\n",
        "df_train = data_ds.copy()\n",
        "df_test = df_train.sample(frac=0.2)\n",
        "df_train = df_train.drop(df_test.index)\n",
        "cols_leave = ['Data.Time', 'Data.status','Data.B4', 'Data.V025', 'Data.V149', 'Data.V190']\n",
        "#cols_leave = ['Data.Time', 'Data.status','Data.b4', 'Data.v025', 'Data.v149']\n",
        "leave = [(col, None) for col in cols_leave]\n",
        "x_mapper = DataFrameMapper(leave)\n",
        "x_train = x_mapper.fit_transform(df_train).astype('float32')\n",
        "x_test = x_mapper.transform(df_test).astype('float32')\n",
        "get_target = lambda df: (df['Data.Time'].values, df['Data.status'].values)\n",
        "y_train = get_target(df_train)\n",
        "durations_test, events_test = get_target(df_test)\n"
      ],
      "execution_count": 18,
      "outputs": []
    },
    {
      "cell_type": "markdown",
      "metadata": {
        "id": "ZvmqOu79F9KO"
      },
      "source": [
        "Run the deep surv model"
      ]
    },
    {
      "cell_type": "code",
      "metadata": {
        "id": "OzlZlAZ7F8ff",
        "colab": {
          "base_uri": "https://localhost:8080/"
        },
        "outputId": "6281d130-bdee-4f51-b2c1-00a08d6f9ac8"
      },
      "source": [
        "## Deepsurv Input\n",
        "dropout = 0.2\n",
        "epochs = 1000\n",
        "structure = [ {'activation': 'ReLU', 'num_units': 128}, {'activation': 'ReLU', 'num_units': 128},{'activation': 'ReLU', 'num_units': 128},{'activation': 'ReLU', 'num_units': 128}]\n",
        "model_ =NonLinearCoxPHModel(structure=structure)\n",
        "\n",
        "\n",
        "model_.fit(x_train, y_train[0],y_train[1], lr=1e-8,num_epochs = epochs, dropout = dropout,init_method='xav_uniform',l2_reg=1e-4, batch_normalization=True)"
      ],
      "execution_count": 19,
      "outputs": [
        {
          "output_type": "stream",
          "name": "stderr",
          "text": [
            "\n"
          ]
        },
        {
          "output_type": "execute_result",
          "data": {
            "text/plain": [
              "NonLinearCoxPHModel( Layer(1): activation = ReLU, num_units = 128 ; \n",
              "                     Layer(2): activation = ReLU, num_units = 128 ; \n",
              "                     Layer(3): activation = ReLU, num_units = 128 ; \n",
              "                     Layer(4): activation = ReLU, num_units = 128 )"
            ]
          },
          "metadata": {},
          "execution_count": 19
        }
      ]
    },
    {
      "cell_type": "markdown",
      "metadata": {
        "id": "IhTuH6pSGN92"
      },
      "source": [
        "Predicted survival probabilities"
      ]
    },
    {
      "cell_type": "code",
      "metadata": {
        "id": "jGAz5hgXGPzs"
      },
      "source": [
        "\n",
        "# Computing the Survival function for all times t on the test dataset\n",
        "predicted = model_.predict_survival(x_test)\n",
        "surv_pred= predicted.mean(axis=0)\n",
        "t = model_.times\n",
        "pairs = {'duration':t, '0': surv_pred}\n",
        "df = pd.DataFrame.from_dict(pairs)\n",
        "df.to_csv('Deep_surv_survival_Chad2014New.csv')"
      ],
      "execution_count": 20,
      "outputs": []
    },
    {
      "cell_type": "markdown",
      "metadata": {
        "id": "EJhc5nq4Ggq-"
      },
      "source": [
        "Plot the survival curves \n"
      ]
    },
    {
      "cell_type": "code",
      "metadata": {
        "id": "03KwHRKJGe51",
        "colab": {
          "base_uri": "https://localhost:8080/",
          "height": 748
        },
        "outputId": "8b74abe0-4f1f-4a90-de34-3fea19be1d24"
      },
      "source": [
        "# One country from each region\n",
        "\n",
        "from numpy import *\n",
        "import math\n",
        "import matplotlib.pyplot as plt\n",
        "\n",
        "\n",
        "# plot all the curves together\n",
        "\n",
        "fig = plt.figure()\n",
        "fig, axs = plt.subplots(2, 2, sharex=True, sharey=True)\n",
        "fig.suptitle('Survival curves extracted from the deepsurv model')\n",
        "# Zimbabwe \n",
        "Zim_2006 = pd.read_csv('Deep_surv_survival_zim2006New.csv')\n",
        "Zim_2011 = pd.read_csv('Deep_surv_survival_zim2011New.csv')\n",
        "Zim_2015 = pd.read_csv('Deep_surv_survival_zim2015New.csv')\n",
        "t1z = Zim_2006[\"duration\"]\n",
        "t2z = Zim_2011[\"duration\"]\n",
        "t3z = Zim_2015[\"duration\"]\n",
        "axs[0,0].plot(t1z, Zim_2006[\"0\"], t2z, Zim_2011[\"0\"], t3z,Zim_2015[\"0\"], linewidth=3.0)\n",
        "axs[0,0].legend([\"2006\", \"2011\", \"2015\"], title=\"Zimbabwe\")\n",
        "axs[0,0].axhline(y=0.5, color='black', linestyle='-')\n",
        "\n",
        "# Uganda\n",
        "Uganda_2006 = pd.read_csv('Deep_surv_survival_Uganda2006New.csv')\n",
        "Uganda_2011 = pd.read_csv('Deep_surv_survival_Uganda2011New.csv')\n",
        "Uganda_2016 = pd.read_csv('Deep_surv_survival_Uganda2016New.csv')\n",
        "\n",
        "t1 = Uganda_2006[\"duration\"]\n",
        "t2 = Uganda_2011[\"duration\"]\n",
        "t3 = Uganda_2016[\"duration\"]\n",
        "axs[0,1].plot(t1, Uganda_2006[\"0\"], t2, Uganda_2011[\"0\"], t3,Uganda_2016[\"0\"], linewidth=3.0)\n",
        "axs[0,1].legend([ \"2006\", \"2011\", \"2016\"], title=\"Uganda\")\n",
        "axs[0,1].axhline(y=0.5, color='black', linestyle='-')\n",
        "\n",
        "# Ghana\n",
        "Ghana_2003 = pd.read_csv('Deep_surv_survival_Ghana2003New.csv')\n",
        "Ghana_2008 = pd.read_csv('Deep_surv_survival_Ghana2008New.csv')\n",
        "Ghana_2014 = pd.read_csv('Deep_surv_survival_Ghana2014New.csv')\n",
        "t1G = Ghana_2003[\"duration\"]\n",
        "t2G = Ghana_2008[\"duration\"]\n",
        "t3G = Ghana_2014[\"duration\"]\n",
        "axs[1,0].plot( t1G, Ghana_2003[\"0\"],t2G, Ghana_2008[\"0\"], t3G,Ghana_2014[\"0\"], linewidth=3.0)\n",
        "axs[1,0].legend([\"2003\", \"2008\", \"2014\"], title=\"Ghana\")\n",
        "axs[1,0].axhline(y=0.5, color='black', linestyle='-')\n",
        "\n",
        "# Chad\n",
        "Chad_2004 = pd.read_csv('Deep_surv_survival_Chad2004New.csv')\n",
        "Chad_2014 = pd.read_csv('Deep_surv_survival_Chad2014New.csv')\n",
        "t1C = Chad_2004[\"duration\"]\n",
        "t2C = Chad_2014[\"duration\"]\n",
        "axs[1,1].plot( t1C, Chad_2004[\"0\"], t2C, Chad_2014[\"0\"], linewidth=3.0)\n",
        "axs[1,1].legend([\"2004\", \"2014\"], title=\"Chad\")\n",
        "axs[1,1].set_ylim(ymin=0)\n",
        "axs[1,1].axhline(y=0.5, color='black', linestyle='-')\n",
        "\n",
        "fig.text(0.5, 0.04, 'Survival time in months', ha='center', va='center')\n",
        "fig.text(0.02, 0.5, 'Survival probabilities', ha='center', va='center', rotation='vertical')\n"
      ],
      "execution_count": null,
      "outputs": [
        {
          "output_type": "execute_result",
          "data": {
            "text/plain": [
              "Text(0.02, 0.5, 'Survival probabilities')"
            ]
          },
          "metadata": {
            "tags": []
          },
          "execution_count": 121
        },
        {
          "output_type": "display_data",
          "data": {
            "text/plain": [
              "<Figure size 1152x720 with 0 Axes>"
            ]
          },
          "metadata": {
            "tags": []
          }
        },
        {
          "output_type": "display_data",
          "data": {
            "image/png": "[encoded data removed]",
            "text/plain": [
              "<Figure size 1152x720 with 4 Axes>"
            ]
          },
          "metadata": {
            "tags": []
          }
        }
      ]
    },
    {
      "cell_type": "markdown",
      "metadata": {
        "id": "_RBLqd-qGyRY"
      },
      "source": [
        "10-fold cross validation"
      ]
    },
    {
      "cell_type": "markdown",
      "metadata": {
        "id": "ipNzVnxGLS8Y"
      },
      "source": [
        "Load datasets\n"
      ]
    },
    {
      "cell_type": "code",
      "metadata": {
        "id": "KZcgRFTkLfOS"
      },
      "source": [
        "train_dataset_fp1 = 'New1996Chad.csv'\n",
        "train_dataset_fp2 = 'New2004Chad.csv'\n",
        "train_dataset_fp3 = 'New2014Chad.csv'\n",
        "#train_dataset_fp4 = 'New2014Ghana.csv'\n",
        "train_df1 = pd.read_csv(train_dataset_fp1)\n",
        "train_df2 = pd.read_csv(train_dataset_fp2)\n",
        "train_df3 = pd.read_csv(train_dataset_fp3)\n",
        "#train_df4 = pd.read_csv(train_dataset_fp4)"
      ],
      "execution_count": null,
      "outputs": []
    },
    {
      "cell_type": "markdown",
      "metadata": {
        "id": "oKjDEemjSaMb"
      },
      "source": [
        "Data splitting"
      ]
    },
    {
      "cell_type": "code",
      "metadata": {
        "id": "CgsSgYl2NWfj",
        "colab": {
          "base_uri": "https://localhost:8080/"
        },
        "outputId": "38f16539-b017-49fb-8c15-bb45e7358f53"
      },
      "source": [
        "\n",
        "cv =KFold(n_splits=10,random_state=42, shuffle=False)\n",
        "train_index1= list()\n",
        "train_index2= list()\n",
        "train_index3= list()\n",
        "train_index4= list()\n",
        "test_index1= list()\n",
        "test_index2= list()\n",
        "test_index3= list()\n",
        "test_index4= list()\n",
        "for i in cv.split(train_df1):\n",
        "    train_index1.append(i[0])\n",
        "    test_index1.append(i[1])\n",
        "for j in cv.split(train_df2):\n",
        "    train_index2.append(j[0])\n",
        "    test_index2.append(j[1])\n",
        "for k in cv.split(train_df3):\n",
        "    train_index3.append(k[0])\n",
        "    test_index3.append(k[1])\n",
        "#for b in cv.split(train_df4):\n",
        " #   train_index4.append(b[0])\n",
        " #   test_index4.append(b[1])\n",
        "    "
      ],
      "execution_count": null,
      "outputs": [
        {
          "output_type": "stream",
          "text": [
            "/usr/local/lib/python3.7/dist-packages/sklearn/model_selection/_split.py:296: FutureWarning:\n",
            "\n",
            "Setting a random_state has no effect since shuffle is False. This will raise an error in 0.24. You should leave random_state to its default (None), or set shuffle=True.\n",
            "\n"
          ],
          "name": "stderr"
        }
      ]
    },
    {
      "cell_type": "markdown",
      "metadata": {
        "id": "Ew96q2rjPKKs"
      },
      "source": [
        "Run the model"
      ]
    },
    {
      "cell_type": "code",
      "metadata": {
        "id": "P0VnCxEzPIDo",
        "colab": {
          "base_uri": "https://localhost:8080/"
        },
        "outputId": "28d7b17f-3ec0-4dd0-de59-0345e10128ff"
      },
      "source": [
        "scores1 = []\n",
        "scores2 = []\n",
        "scores3 = []\n",
        "scores4 = []\n",
        "l=0\n",
        "while  l<10:\n",
        "    #1999\n",
        "    df1 = train_df1.iloc[test_index1[l],:]\n",
        "    dft1=train_df1.iloc[test_index1[l],:]\n",
        "    df_train1 = df1\n",
        "    df_test1 = dft1\n",
        "    #cols_leave = ['Data.Time', 'Data.status','Data.B4', 'Data.V025', 'Data.V149', 'Data.V190']\n",
        "    cols_leave = ['Data.Time', 'Data.status','Data.b4', 'Data.v025', 'Data.v149']\n",
        "    leave = [(col, None) for col in cols_leave]\n",
        "    x_mapper = DataFrameMapper(leave)\n",
        "    x_train1 = x_mapper.fit_transform(df_train1).astype('float32')\n",
        "    x_test1 = x_mapper.transform(df_test1).astype('float32')\n",
        "    get_target = lambda df: (df['Data.Time'].values, df['Data.status'].values)\n",
        "    y_train1 = get_target(df_train1)\n",
        "    durations_test1, events_test1 = get_target(df_test1)\n",
        "    ##2006\n",
        "    df2 = train_df2.iloc[test_index2[l],:]\n",
        "    dft2=train_df2.iloc[test_index2[l],:]\n",
        "\n",
        "    df_train2 = df2\n",
        "    df_test2 = dft2\n",
        "    cols_leave = ['Data.Time', 'Data.status','Data.B4', 'Data.V025', 'Data.V149', 'Data.V190']\n",
        "    leave = [(col, None) for col in cols_leave]\n",
        "    x_mapper = DataFrameMapper(leave)\n",
        "    x_train2 = x_mapper.fit_transform(df_train2).astype('float32')\n",
        "    x_test2 = x_mapper.transform(df_test2).astype('float32')\n",
        "    get_target = lambda df: (df['Data.Time'].values, df['Data.status'].values)\n",
        "    y_train2 = get_target(df_train2)\n",
        "    durations_test2, events_test2 = get_target(df_test2)\n",
        "    ##2011\n",
        "    df3 = train_df3.iloc[test_index3[l],:]\n",
        "    dft3=train_df3.iloc[test_index3[l],:]\n",
        "    df_train3 = df3\n",
        "    df_test3 = dft3\n",
        "    cols_leave = ['Data.Time', 'Data.status','Data.B4', 'Data.V025', 'Data.V149', 'Data.V190']\n",
        "    leave = [(col, None) for col in cols_leave]\n",
        "    x_mapper = DataFrameMapper(leave)\n",
        "    x_train3 = x_mapper.fit_transform(df_train3).astype('float32')\n",
        "    x_test3 = x_mapper.transform(df_test3).astype('float32')\n",
        "    get_target = lambda df: (df['Data.Time'].values, df['Data.status'].values)\n",
        "    y_train3 = get_target(df_train3)\n",
        "    durations_test3, events_test3 = get_target(df_test3)\n",
        "    ##2015\n",
        "    #df4 = train_df4.iloc[test_index4[l],:]\n",
        "    #dft4=train_df4.iloc[test_index4[l],:]\n",
        "    #df_train4 = df4\n",
        "    #df_test4 = dft4\n",
        "    #cols_leave = ['Data.Time', 'Data.status','Data.B4', 'Data.V025', 'Data.V149', 'Data.V190']\n",
        "    #leave = [(col, None) for col in cols_leave]\n",
        "    #x_mapper = DataFrameMapper(leave)\n",
        "    #x_train4 = x_mapper.fit_transform(df_train4).astype('float32')\n",
        "    #x_test4 = x_mapper.transform(df_test4).astype('float32')\n",
        "    #get_target = lambda df: (df['Data.Time'].values, df['Data.status'].values)\n",
        "    #y_train4 = get_target(df_train4)\n",
        "    #durations_test4, events_test4 = get_target(df_test4)\n",
        "# model parameters\n",
        "    dropout = 0.2\n",
        "    epochs = 1000\n",
        "    structure = [ {'activation': 'ReLU', 'num_units': 128}, {'activation': 'ReLU', 'num_units': 128},{'activation': 'ReLU', 'num_units': 128},{'activation': 'ReLU', 'num_units': 128}]\n",
        "    # model 1\n",
        "    model1 =NonLinearCoxPHModel(structure=structure)\n",
        "    model1.fit(x_train1, y_train1[0],y_train1[1], lr=1e-8,num_epochs = epochs, dropout = dropout,init_method='xav_uniform',l2_reg=1e-4, batch_normalization=True)\n",
        "# model 2    \n",
        "    model2 =NonLinearCoxPHModel(structure=structure)\n",
        "    model2.fit(x_train2, y_train2[0],y_train2[1], lr=1e-8,num_epochs = epochs, dropout = dropout,init_method='xav_uniform',l2_reg=1e-4,batch_normalization=True)\n",
        "# model 3\n",
        "    model3 =NonLinearCoxPHModel(structure=structure)\n",
        "    model3.fit(x_train3, y_train3[0],y_train3[1], lr=1e-8,num_epochs = epochs, dropout = dropout,init_method='xav_uniform',l2_reg=1e-4,batch_normalization=True)\n",
        "# model 4\n",
        "    #model4 =NonLinearCoxPHModel(structure=structure)\n",
        "    #model4.fit(x_train4, y_train4[0],y_train4[1], lr=1e-8,num_epochs = epochs, dropout = dropout,init_method='xav_uniform',l2_reg=1e-4, batch_normalization=True)\n",
        "# C-index \n",
        "#1999\n",
        "    scores1.append(concordance_index(model1,x_test1,durations_test1,events_test1))\n",
        "#2006\n",
        "    scores2.append(concordance_index(model2,x_test2,durations_test2,events_test2))\n",
        "#2011\n",
        "    scores3.append(concordance_index(model3,x_test3,durations_test3,events_test3))\n",
        "#2015\n",
        "    #scores4.append(concordance_index(model4,x_test4,durations_test4,events_test4))\n",
        "    l+=1\n",
        "#plt.boxplot(scores)\n",
        "#deepsurv.plot_log(metrics)"
      ],
      "execution_count": null,
      "outputs": [
        {
          "output_type": "stream",
          "text": [
            "\n",
            "\n",
            "\n",
            "\n",
            "\n",
            "\n",
            "\n",
            "\n",
            "\n",
            "\n",
            "\n",
            "\n",
            "\n",
            "\n",
            "\n",
            "\n",
            "\n",
            "\n",
            "\n",
            "\n",
            "\n",
            "\n",
            "\n",
            "\n",
            "\n",
            "\n",
            "\n",
            "\n",
            "\n",
            "\n"
          ],
          "name": "stderr"
        }
      ]
    },
    {
      "cell_type": "markdown",
      "metadata": {
        "id": "9C0pFf07PSm8"
      },
      "source": [
        "Store results"
      ]
    },
    {
      "cell_type": "code",
      "metadata": {
        "id": "zps2pf2-PWGd"
      },
      "source": [
        "ChadResultsNew = pd.DataFrame()\n",
        "ChadResultsNew['1996']  = scores1\n",
        "ChadResultsNew['2004']  = scores2\n",
        "ChadResultsNew['2014']  = scores3\n",
        "#GhanaResultsNew['2014']  = scores4\n",
        "ChadResultsNew\n",
        "ChadResultsNew.to_csv('ChadResultsNew.csv')"
      ],
      "execution_count": null,
      "outputs": []
    },
    {
      "cell_type": "markdown",
      "metadata": {
        "id": "OphXar9_PXMJ"
      },
      "source": [
        "Plot results "
      ]
    },
    {
      "cell_type": "code",
      "metadata": {
        "id": "wk29UfkyP5MU"
      },
      "source": [
        "import matplotlib.pyplot as plt\n",
        "import numpy as np\n",
        "import seaborn as sns\n",
        "import itertools\n",
        "import pandas as pd\n",
        "import plotly.graph_objects as go\n",
        "import matplotlib.pyplot as plt\n",
        "import seaborn as sns, numpy as np\n",
        "from pylab import *"
      ],
      "execution_count": null,
      "outputs": []
    },
    {
      "cell_type": "code",
      "metadata": {
        "id": "4_3FAdfxQHXj",
        "colab": {
          "base_uri": "https://localhost:8080/",
          "height": 683
        },
        "outputId": "9d984d8e-10f2-4d54-f4d1-eccd399df2f2"
      },
      "source": [
        "# One country from each region\n",
        "\n",
        "sns.set(rc={\"figure.figsize\": (16, 10)})\n",
        "plt.suptitle(\"10-fold Crossvalidated C-index\") \n",
        "\n",
        "subplot(2,2,1)\n",
        "# Zimbabwe\n",
        "RSF_zim = 'Zim_RSF.csv'\n",
        "RSF_zim = pd.read_csv(RSF_zim)\n",
        "New = pd.DataFrame(RSF_zim)\n",
        "ZimbabweResults =  'ZimbabweResultsNew.csv'\n",
        "ZimbabweResults = pd.read_csv(ZimbabweResults)\n",
        "ZimbabweResults= ZimbabweResults.drop(['1999'], axis=1)\n",
        "df = pd.concat([ZimbabweResults, New])\n",
        "g = ['Deepsurv','RSF']\n",
        "K =10\n",
        "model = list(itertools.chain.from_iterable(itertools.repeat(i, K) for i in g)) \n",
        "df[\"model\"] = model\n",
        "df = pd.melt(df, id_vars=['model'], value_vars=[ '2006','2011','2015'])\n",
        "df.columns = ['Model', 'Year', 'C-index']\n",
        "ax= sns.boxplot(y='C-index', x='Year', \n",
        "                 data=df, \n",
        "                 palette=\"colorblind\",\n",
        "                 hue='Model',showmeans=True,meanprops={\"marker\":\"o\",\n",
        "                       \"markerfacecolor\":\"white\", \n",
        "                       \"markeredgecolor\":\"black\",\n",
        "                      \"markersize\":\"10\"})\n",
        "ax.set(xlabel=None)\n",
        "ax.set(title='Zimbabwe')\n",
        "ax.set_ylim([0.2,1])\n",
        "subplot(2,2,2)\n",
        "# Uganda\n",
        "RSF_Uganda = 'Uganda_RSF.csv'\n",
        "RSF_Uganda = pd.read_csv(RSF_Uganda)\n",
        "New = pd.DataFrame(RSF_Uganda)\n",
        "UgandaResults =  'UgandaResultsNew.csv'\n",
        "UgandaResults = pd.read_csv(UgandaResults)\n",
        "UgandaResults = UgandaResults.drop(['2001'], axis=1)\n",
        "df = pd.concat([UgandaResults, New])\n",
        "g = ['Deepsurv','RSF']\n",
        "K =10\n",
        "model = list(itertools.chain.from_iterable(itertools.repeat(i, K) for i in g)) \n",
        "df[\"model\"] = model\n",
        "df = pd.melt(df, id_vars=['model'], value_vars=['2006','2011','2016'])\n",
        "df.columns = ['Model', 'Year', 'C-index']\n",
        "ax= sns.boxplot(y='C-index', x='Year', \n",
        "                 data=df, \n",
        "                 palette=\"colorblind\",\n",
        "                 hue='Model',showmeans=True,meanprops={\"marker\":\"o\",\n",
        "                       \"markerfacecolor\":\"white\", \n",
        "                       \"markeredgecolor\":\"black\",\n",
        "                      \"markersize\":\"10\"})\n",
        "ax.set(ylabel=None)\n",
        "ax.set(xlabel=None)\n",
        "ax.set(title='Uganda')\n",
        "ax.set_ylim([0.2,1])\n",
        "\n",
        "subplot(2,2,3)\n",
        "\n",
        "# Ghana\n",
        "RSF_Ghana = 'Ghana_RSF.csv'\n",
        "RSF_Ghana = pd.read_csv(RSF_Ghana)\n",
        "New = pd.DataFrame(RSF_Ghana)\n",
        "GhanaResults =  'GhanaResultsNew.csv'\n",
        "GhanaResults = pd.read_csv(GhanaResults)\n",
        "GhanaResults = GhanaResults.drop(['1998'], axis=1)\n",
        "df = pd.concat([GhanaResults, New])\n",
        "g = ['Deepsurv','RSF']\n",
        "K =10\n",
        "model = list(itertools.chain.from_iterable(itertools.repeat(i, K) for i in g)) \n",
        "df[\"model\"] = model\n",
        "df = pd.melt(df, id_vars=['model'], value_vars=['2003','2008','2014'])\n",
        "df.columns = ['Model', 'Year', 'C-index']\n",
        "ax = sns.boxplot(y='C-index', x='Year', \n",
        "                 data=df, \n",
        "                 palette=\"colorblind\",\n",
        "                 hue='Model',showmeans=True,meanprops={\"marker\":\"o\",\n",
        "                       \"markerfacecolor\":\"white\", \n",
        "                       \"markeredgecolor\":\"black\",\n",
        "                      \"markersize\":\"10\"})\n",
        "ax.set(title='Ghana')\n",
        "ax.set_ylim([0.2,1])\n",
        "subplot(2,2,4)\n",
        "# Chad\n",
        "RSF_Chad = 'Chad_RSF.csv'\n",
        "RSF_Chad = pd.read_csv(RSF_Chad)\n",
        "New = pd.DataFrame(RSF_Chad)\n",
        "ChadResults =  'ChadResultsNew.csv'\n",
        "ChadResults = pd.read_csv(ChadResults)\n",
        "ChadResults = ChadResults.drop(['1996'], axis=1)\n",
        "df = pd.concat([ChadResults, New])\n",
        "g = ['Deepsurv','RSF']\n",
        "K =10\n",
        "model = list(itertools.chain.from_iterable(itertools.repeat(i, K) for i in g)) \n",
        "df[\"model\"] = model\n",
        "df = pd.melt(df, id_vars=['model'], value_vars=['2004','2014'])\n",
        "df.columns = ['Model', 'Year', 'C-index']\n",
        "ax = sns.boxplot(y='C-index', x='Year', \n",
        "                 data=df, \n",
        "                 palette=\"colorblind\",\n",
        "                 hue='Model',showmeans=True,meanprops={\"marker\":\"o\",\n",
        "                       \"markerfacecolor\":\"white\", \n",
        "                       \"markeredgecolor\":\"black\",\n",
        "                      \"markersize\":\"10\"})\n",
        "ax.set(ylabel=None)\n",
        "ax.set(title='Chad')\n",
        "ax.set_ylim([0.2,1])\n",
        "#plt.show()\n",
        "\n",
        "# save the plot as a file\n",
        "plt.savefig('CVCINDEX.tif', transparent=True, dpi=350, bbox_inches=\"tight\", pad_inches=0.0)\n",
        "\n"
      ],
      "execution_count": null,
      "outputs": [
        {
          "output_type": "display_data",
          "data": {
            "image/png": "[encoded data removed]",
            "text/plain": [
              "<Figure size 1152x720 with 4 Axes>"
            ]
          },
          "metadata": {
            "tags": []
          }
        }
      ]
    },
    {
      "cell_type": "code",
      "metadata": {
        "id": "EDsCG_98ykPD"
      },
      "source": [
        "train_dataset_fp1 = 'New2001Uganda.csv'\n",
        "train_dataset_fp2 = 'New2006Uganda.csv'\n",
        "train_dataset_fp3 = 'New2011Uganda.csv'\n",
        "train_dataset_fp4 = 'New2016Uganda.csv'\n",
        "\n",
        "\n",
        "train_dataset_fp1 = 'New1999Zim.csv'\n",
        "train_dataset_fp2 = 'New2006Zim.csv'\n",
        "train_dataset_fp3 = 'New2011Zim.csv'\n",
        "train_dataset_fp4 = 'New2015Zim.csv'\n",
        "\n",
        "\n",
        "train_dataset_fp1 = 'New1998Ghana.csv'\n",
        "train_dataset_fp2 = 'New2003Ghana.csv'\n",
        "train_dataset_fp3 = 'New2008Ghana.csv'\n",
        "train_dataset_fp4 = 'New2014Ghana.csv'\n",
        "\n",
        "train_dataset_fp1 = 'New1996Chad.csv'\n",
        "train_dataset_fp2 = 'New2004Chad.csv'\n",
        "train_dataset_fp3 = 'New2014Chad.csv'\n",
        "\n",
        "Results \n",
        "\n",
        "ZimbabweResultsNew = pd.DataFrame()\n",
        "ZimbabweResultsNew['1999']  = scores1\n",
        "ZimbabweResultsNew['2006']  = scores2\n",
        "ZimbabweResultsNew['2011']  = scores3\n",
        "ZimbabweResultsNew['2015']  = scores4\n",
        "ZimbabweResultsNew\n",
        "#ZimbabweResultsNew.to_csv('ZimbabweResultsNew.csv')\n",
        "\n",
        "UgandaResultsNew = pd.DataFrame()\n",
        "UgandaResultsNew['2001']  = scores1\n",
        "UgandaResultsNew['2006']  = scores2\n",
        "UgandaResultsNew['2011']  = scores3\n",
        "UgandaResultsNew['2016']  = scores4\n",
        "UgandaResultsNew\n",
        "#UgandaResultsNew.to_csv('UgandaResultsNew.csv')\n",
        "\n",
        "GhanaResultsNew = pd.DataFrame()\n",
        "GhanaResultsNew['1998']  = scores1\n",
        "GhanaResultsNew['2003']  = scores2\n",
        "GhanaResultsNew['2008']  = scores3\n",
        "GhanaResultsNew['2014']  = scores4\n",
        "GhanaResultsNew\n",
        "#GhanaResultsNew.to_csv('GhanaResultsNew.csv')\n",
        "\n",
        "ChadResultsNew = pd.DataFrame()\n",
        "ChadResultsNew['1996']  = scores1\n",
        "ChadResultsNew['2004']  = scores2\n",
        "ChadResultsNew['2014']  = scores3\n",
        "#GhanaResultsNew['2014']  = scores4\n",
        "ChadResultsNew\n",
        "#ChadResultsNew.to_csv('ChadResultsNew.csv')"
      ],
      "execution_count": null,
      "outputs": []
    },
    {
      "cell_type": "code",
      "metadata": {
        "colab": {
          "base_uri": "https://localhost:8080/",
          "height": 417
        },
        "id": "lfQ9E5km83yL",
        "outputId": "ee98d88c-1c33-4bb0-8cb0-ba1da640ad07"
      },
      "source": [
        "train_df2"
      ],
      "execution_count": null,
      "outputs": [
        {
          "output_type": "execute_result",
          "data": {
            "text/html": [
              "<div>\n",
              "<style scoped>\n",
              "    .dataframe tbody tr th:only-of-type {\n",
              "        vertical-align: middle;\n",
              "    }\n",
              "\n",
              "    .dataframe tbody tr th {\n",
              "        vertical-align: top;\n",
              "    }\n",
              "\n",
              "    .dataframe thead th {\n",
              "        text-align: right;\n",
              "    }\n",
              "</style>\n",
              "<table border=\"1\" class=\"dataframe\">\n",
              "  <thead>\n",
              "    <tr style=\"text-align: right;\">\n",
              "      <th></th>\n",
              "      <th>Unnamed: 0</th>\n",
              "      <th>Data.Time</th>\n",
              "      <th>Data.status</th>\n",
              "      <th>Data.B4</th>\n",
              "      <th>Data.V025</th>\n",
              "      <th>Data.V149</th>\n",
              "      <th>Data.V190</th>\n",
              "    </tr>\n",
              "  </thead>\n",
              "  <tbody>\n",
              "    <tr>\n",
              "      <th>0</th>\n",
              "      <td>1</td>\n",
              "      <td>28</td>\n",
              "      <td>0</td>\n",
              "      <td>2</td>\n",
              "      <td>2</td>\n",
              "      <td>3</td>\n",
              "      <td>5</td>\n",
              "    </tr>\n",
              "    <tr>\n",
              "      <th>1</th>\n",
              "      <td>2</td>\n",
              "      <td>55</td>\n",
              "      <td>0</td>\n",
              "      <td>2</td>\n",
              "      <td>2</td>\n",
              "      <td>3</td>\n",
              "      <td>5</td>\n",
              "    </tr>\n",
              "    <tr>\n",
              "      <th>2</th>\n",
              "      <td>3</td>\n",
              "      <td>35</td>\n",
              "      <td>0</td>\n",
              "      <td>2</td>\n",
              "      <td>2</td>\n",
              "      <td>4</td>\n",
              "      <td>5</td>\n",
              "    </tr>\n",
              "    <tr>\n",
              "      <th>3</th>\n",
              "      <td>4</td>\n",
              "      <td>6</td>\n",
              "      <td>0</td>\n",
              "      <td>1</td>\n",
              "      <td>2</td>\n",
              "      <td>5</td>\n",
              "      <td>5</td>\n",
              "    </tr>\n",
              "    <tr>\n",
              "      <th>4</th>\n",
              "      <td>5</td>\n",
              "      <td>49</td>\n",
              "      <td>0</td>\n",
              "      <td>1</td>\n",
              "      <td>2</td>\n",
              "      <td>5</td>\n",
              "      <td>5</td>\n",
              "    </tr>\n",
              "    <tr>\n",
              "      <th>...</th>\n",
              "      <td>...</td>\n",
              "      <td>...</td>\n",
              "      <td>...</td>\n",
              "      <td>...</td>\n",
              "      <td>...</td>\n",
              "      <td>...</td>\n",
              "      <td>...</td>\n",
              "    </tr>\n",
              "    <tr>\n",
              "      <th>3839</th>\n",
              "      <td>3840</td>\n",
              "      <td>20</td>\n",
              "      <td>0</td>\n",
              "      <td>1</td>\n",
              "      <td>2</td>\n",
              "      <td>3</td>\n",
              "      <td>2</td>\n",
              "    </tr>\n",
              "    <tr>\n",
              "      <th>3840</th>\n",
              "      <td>3841</td>\n",
              "      <td>41</td>\n",
              "      <td>0</td>\n",
              "      <td>1</td>\n",
              "      <td>2</td>\n",
              "      <td>3</td>\n",
              "      <td>2</td>\n",
              "    </tr>\n",
              "    <tr>\n",
              "      <th>3841</th>\n",
              "      <td>3842</td>\n",
              "      <td>32</td>\n",
              "      <td>0</td>\n",
              "      <td>2</td>\n",
              "      <td>2</td>\n",
              "      <td>3</td>\n",
              "      <td>5</td>\n",
              "    </tr>\n",
              "    <tr>\n",
              "      <th>3842</th>\n",
              "      <td>3843</td>\n",
              "      <td>41</td>\n",
              "      <td>0</td>\n",
              "      <td>1</td>\n",
              "      <td>2</td>\n",
              "      <td>1</td>\n",
              "      <td>2</td>\n",
              "    </tr>\n",
              "    <tr>\n",
              "      <th>3843</th>\n",
              "      <td>3844</td>\n",
              "      <td>9</td>\n",
              "      <td>0</td>\n",
              "      <td>2</td>\n",
              "      <td>2</td>\n",
              "      <td>1</td>\n",
              "      <td>3</td>\n",
              "    </tr>\n",
              "  </tbody>\n",
              "</table>\n",
              "<p>3844 rows × 7 columns</p>\n",
              "</div>"
            ],
            "text/plain": [
              "      Unnamed: 0  Data.Time  Data.status  ...  Data.V025  Data.V149  Data.V190\n",
              "0              1         28            0  ...          2          3          5\n",
              "1              2         55            0  ...          2          3          5\n",
              "2              3         35            0  ...          2          4          5\n",
              "3              4          6            0  ...          2          5          5\n",
              "4              5         49            0  ...          2          5          5\n",
              "...          ...        ...          ...  ...        ...        ...        ...\n",
              "3839        3840         20            0  ...          2          3          2\n",
              "3840        3841         41            0  ...          2          3          2\n",
              "3841        3842         32            0  ...          2          3          5\n",
              "3842        3843         41            0  ...          2          1          2\n",
              "3843        3844          9            0  ...          2          1          3\n",
              "\n",
              "[3844 rows x 7 columns]"
            ]
          },
          "metadata": {
            "tags": []
          },
          "execution_count": 50
        }
      ]
    }
  ]
}
